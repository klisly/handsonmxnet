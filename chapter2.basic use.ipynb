{
 "cells": [
  {
   "cell_type": "markdown",
   "metadata": {},
   "source": [
    "##### 2.1 数据操作"
   ]
  },
  {
   "cell_type": "code",
   "execution_count": 20,
   "metadata": {},
   "outputs": [],
   "source": [
    "from mxnet import nd\n",
    "import mxnet as mx"
   ]
  },
  {
   "cell_type": "code",
   "execution_count": 2,
   "metadata": {},
   "outputs": [],
   "source": [
    "x = nd.arange(12)"
   ]
  },
  {
   "cell_type": "code",
   "execution_count": 3,
   "metadata": {},
   "outputs": [
    {
     "data": {
      "text/plain": [
       "(12,)"
      ]
     },
     "execution_count": 3,
     "metadata": {},
     "output_type": "execute_result"
    }
   ],
   "source": [
    "x.shape"
   ]
  },
  {
   "cell_type": "code",
   "execution_count": 4,
   "metadata": {},
   "outputs": [
    {
     "name": "stdout",
     "output_type": "stream",
     "text": [
      "Help on function exponential in module mxnet.ndarray.random:\n",
      "\n",
      "exponential(scale=1, shape=_Null, dtype=_Null, ctx=None, out=None, **kwargs)\n",
      "    Draw samples from an exponential distribution.\n",
      "    \n",
      "    Its probability density function is\n",
      "    \n",
      "    .. math:: f(x; \\frac{1}{\\beta}) = \\frac{1}{\\beta} \\exp(-\\frac{x}{\\beta}),\n",
      "    \n",
      "    for x > 0 and 0 elsewhere. \\beta is the scale parameter, which is the\n",
      "    inverse of the rate parameter \\lambda = 1/\\beta.\n",
      "    \n",
      "    Parameters\n",
      "    ----------\n",
      "    scale : float or NDArray, optional\n",
      "        The scale parameter, \\beta = 1/\\lambda.\n",
      "    shape : int or tuple of ints, optional\n",
      "        The number of samples to draw. If shape is, e.g., `(m, n)` and `scale` is\n",
      "        a scalar, output shape will be `(m, n)`. If `scale`\n",
      "        is an NDArray with shape, e.g., `(x, y)`, then output will have shape\n",
      "        `(x, y, m, n)`, where `m*n` samples are drawn for each entry in `scale`.\n",
      "    dtype : {'float16', 'float32', 'float64'}, optional\n",
      "        Data type of output samples. Default is 'float32'\n",
      "    ctx : Context, optional\n",
      "        Device context of output. Default is current context. Overridden by\n",
      "        `scale.context` when `scale` is an NDArray.\n",
      "    out : NDArray, optional\n",
      "        Store output to an existing NDArray.\n",
      "    \n",
      "    Returns\n",
      "    -------\n",
      "    NDArray\n",
      "        If input `shape` has shape, e.g., `(m, n)` and `scale` is a scalar, output shape will\n",
      "        be `(m, n)`. If `scale` is an NDArray with shape, e.g., `(x, y)`, then `output`\n",
      "        will have shape `(x, y, m, n)`, where `m*n` samples are drawn for each entry in scale.\n",
      "    \n",
      "    Examples\n",
      "    --------\n",
      "    >>> mx.nd.random.exponential(1)\n",
      "    [ 0.79587454]\n",
      "    <NDArray 1 @cpu(0)>\n",
      "    >>> mx.nd.random.exponential(1, shape=(2,))\n",
      "    [ 0.89856035  1.25593066]\n",
      "    <NDArray 2 @cpu(0)>\n",
      "    >>> scale = mx.nd.array([1,2,3])\n",
      "    >>> mx.nd.random.exponential(scale, shape=2)\n",
      "    [[  0.41063145   0.42140478]\n",
      "     [  2.59407091  10.12439728]\n",
      "     [  2.42544937   1.14260709]]\n",
      "    <NDArray 3x2 @cpu(0)>\n",
      "\n"
     ]
    }
   ],
   "source": [
    "# 查看方法帮助\n",
    "help(nd.random.exponential)"
   ]
  },
  {
   "cell_type": "code",
   "execution_count": 12,
   "metadata": {},
   "outputs": [],
   "source": [
    "d = nd.zeros((1,2))"
   ]
  },
  {
   "cell_type": "code",
   "execution_count": 11,
   "metadata": {},
   "outputs": [
    {
     "name": "stdout",
     "output_type": "stream",
     "text": [
      "Help on function ones_like:\n",
      "\n",
      "ones_like(data=None, out=None, name=None, **kwargs)\n",
      "    Return an array of ones with the same shape and type\n",
      "    as the input array.\n",
      "    \n",
      "    Examples::\n",
      "    \n",
      "      x = [[ 0.,  0.,  0.],\n",
      "           [ 0.,  0.,  0.]]\n",
      "    \n",
      "      ones_like(x) = [[ 1.,  1.,  1.],\n",
      "                      [ 1.,  1.,  1.]]\n",
      "    \n",
      "    \n",
      "    \n",
      "    Parameters\n",
      "    ----------\n",
      "    data : NDArray\n",
      "        The input\n",
      "    \n",
      "    out : NDArray, optional\n",
      "        The output NDArray to hold the result.\n",
      "    \n",
      "    Returns\n",
      "    -------\n",
      "    out : NDArray or list of NDArrays\n",
      "        The output of this function.\n",
      "\n"
     ]
    }
   ],
   "source": [
    "help(nd.ones_like)"
   ]
  },
  {
   "cell_type": "code",
   "execution_count": 13,
   "metadata": {},
   "outputs": [
    {
     "data": {
      "text/plain": [
       "\n",
       "[[1. 1.]]\n",
       "<NDArray 1x2 @cpu(0)>"
      ]
     },
     "execution_count": 13,
     "metadata": {},
     "output_type": "execute_result"
    }
   ],
   "source": [
    "nd.ones_like(d)"
   ]
  },
  {
   "cell_type": "code",
   "execution_count": 15,
   "metadata": {},
   "outputs": [
    {
     "name": "stdout",
     "output_type": "stream",
     "text": [
      "Help on function one_hot:\n",
      "\n",
      "one_hot(indices=None, depth=_Null, on_value=_Null, off_value=_Null, dtype=_Null, out=None, name=None, **kwargs)\n",
      "    Returns a one-hot array.\n",
      "    \n",
      "    The locations represented by `indices` take value `on_value`, while all\n",
      "    other locations take value `off_value`.\n",
      "    \n",
      "    `one_hot` operation with `indices` of shape ``(i0, i1)`` and `depth`  of ``d`` would result\n",
      "    in an output array of shape ``(i0, i1, d)`` with::\n",
      "    \n",
      "      output[i,j,:] = off_value\n",
      "      output[i,j,indices[i,j]] = on_value\n",
      "    \n",
      "    Examples::\n",
      "    \n",
      "      one_hot([1,0,2,0], 3) = [[ 0.  1.  0.]\n",
      "                               [ 1.  0.  0.]\n",
      "                               [ 0.  0.  1.]\n",
      "                               [ 1.  0.  0.]]\n",
      "    \n",
      "      one_hot([1,0,2,0], 3, on_value=8, off_value=1,\n",
      "              dtype='int32') = [[1 8 1]\n",
      "                                [8 1 1]\n",
      "                                [1 1 8]\n",
      "                                [8 1 1]]\n",
      "    \n",
      "      one_hot([[1,0],[1,0],[2,0]], 3) = [[[ 0.  1.  0.]\n",
      "                                          [ 1.  0.  0.]]\n",
      "    \n",
      "                                         [[ 0.  1.  0.]\n",
      "                                          [ 1.  0.  0.]]\n",
      "    \n",
      "                                         [[ 0.  0.  1.]\n",
      "                                          [ 1.  0.  0.]]]\n",
      "    \n",
      "    \n",
      "    Defined in src/operator/tensor/indexing_op.cc:L799\n",
      "    \n",
      "    Parameters\n",
      "    ----------\n",
      "    indices : NDArray\n",
      "        array of locations where to set on_value\n",
      "    depth : int, required\n",
      "        Depth of the one hot dimension.\n",
      "    on_value : double, optional, default=1\n",
      "        The value assigned to the locations represented by indices.\n",
      "    off_value : double, optional, default=0\n",
      "        The value assigned to the locations not represented by indices.\n",
      "    dtype : {'float16', 'float32', 'float64', 'int32', 'int64', 'int8', 'uint8'},optional, default='float32'\n",
      "        DType of the output\n",
      "    \n",
      "    out : NDArray, optional\n",
      "        The output NDArray to hold the result.\n",
      "    \n",
      "    Returns\n",
      "    -------\n",
      "    out : NDArray or list of NDArrays\n",
      "        The output of this function.\n",
      "\n"
     ]
    }
   ],
   "source": [
    "help(nd.one_hot)"
   ]
  },
  {
   "cell_type": "code",
   "execution_count": 17,
   "metadata": {},
   "outputs": [
    {
     "name": "stdout",
     "output_type": "stream",
     "text": [
      "Help on function normal in module mxnet.ndarray.random:\n",
      "\n",
      "normal(loc=0, scale=1, shape=_Null, dtype=_Null, ctx=None, out=None, **kwargs)\n",
      "    Draw random samples from a normal (Gaussian) distribution.\n",
      "    \n",
      "    Samples are distributed according to a normal distribution parametrized\n",
      "    by *loc* (mean) and *scale* (standard deviation).\n",
      "    \n",
      "    \n",
      "    Parameters\n",
      "    ----------\n",
      "    loc : float or NDArray, optional\n",
      "        Mean (centre) of the distribution.\n",
      "    scale : float or NDArray, optional\n",
      "        Standard deviation (spread or width) of the distribution.\n",
      "    shape : int or tuple of ints, optional\n",
      "        The number of samples to draw. If shape is, e.g., `(m, n)` and `loc` and\n",
      "        `scale` are scalars, output shape will be `(m, n)`. If `loc` and `scale`\n",
      "        are NDArrays with shape, e.g., `(x, y)`, then output will have shape\n",
      "        `(x, y, m, n)`, where `m*n` samples are drawn for each `[loc, scale)` pair.\n",
      "    dtype : {'float16', 'float32', 'float64'}, optional\n",
      "        Data type of output samples. Default is 'float32'\n",
      "    ctx : Context, optional\n",
      "        Device context of output. Default is current context. Overridden by\n",
      "        `loc.context` when `loc` is an NDArray.\n",
      "    out : NDArray, optional\n",
      "        Store output to an existing NDArray.\n",
      "    \n",
      "    Returns\n",
      "    -------\n",
      "    NDArray\n",
      "        An NDArray of type `dtype`. If input `shape` has shape, e.g., `(m, n)` and\n",
      "        `loc` and `scale` are scalars, output shape will be `(m, n)`. If `loc` and\n",
      "        `scale` are NDArrays with shape, e.g., `(x, y)`, then output will have shape\n",
      "        `(x, y, m, n)`, where `m*n` samples are drawn for each `[loc, scale)` pair.\n",
      "    \n",
      "    Examples\n",
      "    --------\n",
      "    >>> mx.nd.random.normal(0, 1)\n",
      "    [ 2.21220636]\n",
      "    <NDArray 1 @cpu(0)>\n",
      "    >>> mx.nd.random.normal(0, 1, ctx=mx.gpu(0))\n",
      "    [ 0.29253659]\n",
      "    <NDArray 1 @gpu(0)>\n",
      "    >>> mx.nd.random.normal(-1, 1, shape=(2,))\n",
      "    [-0.2259962  -0.51619542]\n",
      "    <NDArray 2 @cpu(0)>\n",
      "    >>> loc = mx.nd.array([1,2,3])\n",
      "    >>> scale = mx.nd.array([2,3,4])\n",
      "    >>> mx.nd.random.normal(loc, scale, shape=2)\n",
      "    [[ 0.55912292  3.19566321]\n",
      "     [ 1.91728961  2.47706747]\n",
      "     [ 2.79666662  5.44254589]]\n",
      "    <NDArray 3x2 @cpu(0)>\n",
      "\n"
     ]
    }
   ],
   "source": [
    "help(nd.random.normal)"
   ]
  },
  {
   "cell_type": "markdown",
   "metadata": {},
   "source": [
    "#### 2.2 矩阵基本运算"
   ]
  },
  {
   "cell_type": "code",
   "execution_count": 24,
   "metadata": {},
   "outputs": [],
   "source": [
    "# gpu的随机矩阵\n",
    "X = mx.nd.random.normal(0, 1, (2,3), ctx=mx.gpu(0))"
   ]
  },
  {
   "cell_type": "code",
   "execution_count": 25,
   "metadata": {},
   "outputs": [],
   "source": [
    "Y = mx.nd.random.normal(0, 1, (2,3), ctx=mx.gpu(0))"
   ]
  },
  {
   "cell_type": "code",
   "execution_count": 26,
   "metadata": {},
   "outputs": [
    {
     "name": "stdout",
     "output_type": "stream",
     "text": [
      "\n",
      "[[-1.3607211   0.74679667  0.37808618]\n",
      " [ 1.3020267   0.5443981  -0.5725043 ]]\n",
      "<NDArray 2x3 @gpu(0)> \n",
      "[[-0.9246624   0.9911375  -0.4820686 ]\n",
      " [-0.61760885  0.18082583 -0.15363811]]\n",
      "<NDArray 2x3 @gpu(0)>\n"
     ]
    }
   ],
   "source": [
    "print(X, Y)"
   ]
  },
  {
   "cell_type": "code",
   "execution_count": 27,
   "metadata": {},
   "outputs": [
    {
     "data": {
      "text/plain": [
       "\n",
       "[[-2.2853835   1.7379341  -0.10398242]\n",
       " [ 0.6844179   0.72522396 -0.7261424 ]]\n",
       "<NDArray 2x3 @gpu(0)>"
      ]
     },
     "execution_count": 27,
     "metadata": {},
     "output_type": "execute_result"
    }
   ],
   "source": [
    "X + Y"
   ]
  },
  {
   "cell_type": "code",
   "execution_count": 28,
   "metadata": {},
   "outputs": [
    {
     "data": {
      "text/plain": [
       "\n",
       "[[-0.4360587  -0.24434084  0.86015475]\n",
       " [ 1.9196355   0.3635723  -0.41886616]]\n",
       "<NDArray 2x3 @gpu(0)>"
      ]
     },
     "execution_count": 28,
     "metadata": {},
     "output_type": "execute_result"
    }
   ],
   "source": [
    "X - Y"
   ]
  },
  {
   "cell_type": "code",
   "execution_count": 29,
   "metadata": {},
   "outputs": [
    {
     "data": {
      "text/plain": [
       "\n",
       "[[ 1.2582077   0.74017817 -0.18226348]\n",
       " [-0.80414325  0.09844124  0.08795848]]\n",
       "<NDArray 2x3 @gpu(0)>"
      ]
     },
     "execution_count": 29,
     "metadata": {},
     "output_type": "execute_result"
    }
   ],
   "source": [
    "X * Y"
   ]
  },
  {
   "cell_type": "code",
   "execution_count": 30,
   "metadata": {},
   "outputs": [
    {
     "data": {
      "text/plain": [
       "\n",
       "[[ 1.471587    0.75347435 -0.78429955]\n",
       " [-2.1081738   3.0106215   3.726317  ]]\n",
       "<NDArray 2x3 @gpu(0)>"
      ]
     },
     "execution_count": 30,
     "metadata": {},
     "output_type": "execute_result"
    }
   ],
   "source": [
    "X / Y"
   ]
  },
  {
   "cell_type": "code",
   "execution_count": 31,
   "metadata": {},
   "outputs": [
    {
     "data": {
      "text/plain": [
       "\n",
       "[[1.3607211  0.74679667 0.37808618]\n",
       " [1.3020267  0.5443981  0.5725043 ]]\n",
       "<NDArray 2x3 @gpu(0)>"
      ]
     },
     "execution_count": 31,
     "metadata": {},
     "output_type": "execute_result"
    }
   ],
   "source": [
    "X.abs()"
   ]
  },
  {
   "cell_type": "code",
   "execution_count": 32,
   "metadata": {},
   "outputs": [
    {
     "data": {
      "text/plain": [
       "\n",
       "[[       nan 0.72756404 1.1830683 ]\n",
       " [       nan 0.99512494 2.1803534 ]]\n",
       "<NDArray 2x3 @gpu(0)>"
      ]
     },
     "execution_count": 32,
     "metadata": {},
     "output_type": "execute_result"
    }
   ],
   "source": [
    "X.arccos() # 反余弦"
   ]
  },
  {
   "cell_type": "code",
   "execution_count": 33,
   "metadata": {},
   "outputs": [
    {
     "data": {
      "text/plain": [
       "\n",
       "[[ 2.5522163 -1.5815965]\n",
       " [-1.5815965  2.3194041]]\n",
       "<NDArray 2x2 @gpu(0)>"
      ]
     },
     "execution_count": 33,
     "metadata": {},
     "output_type": "execute_result"
    }
   ],
   "source": [
    "nd.dot(X, X.T)"
   ]
  },
  {
   "cell_type": "code",
   "execution_count": 34,
   "metadata": {},
   "outputs": [
    {
     "data": {
      "text/plain": [
       "\n",
       "[[0.25647575 2.1102295  1.4594886 ]\n",
       " [3.676741   1.7235707  0.56411093]]\n",
       "<NDArray 2x3 @gpu(0)>"
      ]
     },
     "execution_count": 34,
     "metadata": {},
     "output_type": "execute_result"
    }
   ],
   "source": [
    "X.exp()"
   ]
  },
  {
   "cell_type": "code",
   "execution_count": 42,
   "metadata": {},
   "outputs": [
    {
     "data": {
      "text/plain": [
       "\n",
       "[[-1.3607211   0.74679667  0.37808618]\n",
       " [ 1.3020267   0.5443981  -0.5725043 ]\n",
       " [-0.9246624   0.9911375  -0.4820686 ]\n",
       " [-0.61760885  0.18082583 -0.15363811]]\n",
       "<NDArray 4x3 @gpu(0)>"
      ]
     },
     "execution_count": 42,
     "metadata": {},
     "output_type": "execute_result"
    }
   ],
   "source": [
    "nd.concat(X, Y, dim = 0)"
   ]
  },
  {
   "cell_type": "code",
   "execution_count": 39,
   "metadata": {},
   "outputs": [
    {
     "data": {
      "text/plain": [
       "\n",
       "[[-1.3607211   0.74679667  0.37808618 -0.9246624   0.9911375  -0.4820686 ]\n",
       " [ 1.3020267   0.5443981  -0.5725043  -0.61760885  0.18082583 -0.15363811]]\n",
       "<NDArray 2x6 @gpu(0)>"
      ]
     },
     "execution_count": 39,
     "metadata": {},
     "output_type": "execute_result"
    }
   ],
   "source": [
    "nd.concat(X, Y, dim = 1)"
   ]
  },
  {
   "cell_type": "code",
   "execution_count": 40,
   "metadata": {},
   "outputs": [
    {
     "data": {
      "text/plain": [
       "(2, 3)"
      ]
     },
     "execution_count": 40,
     "metadata": {},
     "output_type": "execute_result"
    }
   ],
   "source": [
    "X.shape"
   ]
  },
  {
   "cell_type": "code",
   "execution_count": 43,
   "metadata": {},
   "outputs": [
    {
     "data": {
      "text/plain": [
       "\n",
       "[[0. 0. 1.]\n",
       " [1. 1. 0.]]\n",
       "<NDArray 2x3 @gpu(0)>"
      ]
     },
     "execution_count": 43,
     "metadata": {},
     "output_type": "execute_result"
    }
   ],
   "source": [
    "X > Y"
   ]
  },
  {
   "cell_type": "code",
   "execution_count": 44,
   "metadata": {},
   "outputs": [
    {
     "data": {
      "text/plain": [
       "\n",
       "[[1. 1. 0.]\n",
       " [0. 0. 1.]]\n",
       "<NDArray 2x3 @gpu(0)>"
      ]
     },
     "execution_count": 44,
     "metadata": {},
     "output_type": "execute_result"
    }
   ],
   "source": [
    "X < Y"
   ]
  },
  {
   "cell_type": "code",
   "execution_count": 45,
   "metadata": {},
   "outputs": [
    {
     "data": {
      "text/plain": [
       "\n",
       "[[0. 0. 0.]\n",
       " [0. 0. 0.]]\n",
       "<NDArray 2x3 @gpu(0)>"
      ]
     },
     "execution_count": 45,
     "metadata": {},
     "output_type": "execute_result"
    }
   ],
   "source": [
    "X == Y"
   ]
  },
  {
   "cell_type": "code",
   "execution_count": 51,
   "metadata": {},
   "outputs": [
    {
     "data": {
      "text/plain": [
       "2.2071748"
      ]
     },
     "execution_count": 51,
     "metadata": {},
     "output_type": "execute_result"
    }
   ],
   "source": [
    "X.norm().asscalar() # 转换标量"
   ]
  },
  {
   "cell_type": "code",
   "execution_count": 52,
   "metadata": {},
   "outputs": [
    {
     "ename": "ValueError",
     "evalue": "The current array is not a scalar",
     "output_type": "error",
     "traceback": [
      "\u001b[0;31m---------------------------------------------------------------------------\u001b[0m",
      "\u001b[0;31mValueError\u001b[0m                                Traceback (most recent call last)",
      "\u001b[0;32m<ipython-input-52-58d863713c43>\u001b[0m in \u001b[0;36m<module>\u001b[0;34m\u001b[0m\n\u001b[0;32m----> 1\u001b[0;31m \u001b[0mX\u001b[0m\u001b[0;34m.\u001b[0m\u001b[0masscalar\u001b[0m\u001b[0;34m(\u001b[0m\u001b[0;34m)\u001b[0m\u001b[0;34m\u001b[0m\u001b[0m\n\u001b[0m",
      "\u001b[0;32m~/.pyenv/versions/3.6.5/lib/python3.6/site-packages/mxnet/ndarray/ndarray.py\u001b[0m in \u001b[0;36masscalar\u001b[0;34m(self)\u001b[0m\n\u001b[1;32m   2011\u001b[0m         \"\"\"\n\u001b[1;32m   2012\u001b[0m         \u001b[0;32mif\u001b[0m \u001b[0mself\u001b[0m\u001b[0;34m.\u001b[0m\u001b[0mshape\u001b[0m \u001b[0;34m!=\u001b[0m \u001b[0;34m(\u001b[0m\u001b[0;36m1\u001b[0m\u001b[0;34m,\u001b[0m\u001b[0;34m)\u001b[0m\u001b[0;34m:\u001b[0m\u001b[0;34m\u001b[0m\u001b[0m\n\u001b[0;32m-> 2013\u001b[0;31m             \u001b[0;32mraise\u001b[0m \u001b[0mValueError\u001b[0m\u001b[0;34m(\u001b[0m\u001b[0;34m\"The current array is not a scalar\"\u001b[0m\u001b[0;34m)\u001b[0m\u001b[0;34m\u001b[0m\u001b[0m\n\u001b[0m\u001b[1;32m   2014\u001b[0m         \u001b[0;32mreturn\u001b[0m \u001b[0mself\u001b[0m\u001b[0;34m.\u001b[0m\u001b[0masnumpy\u001b[0m\u001b[0;34m(\u001b[0m\u001b[0;34m)\u001b[0m\u001b[0;34m[\u001b[0m\u001b[0;36m0\u001b[0m\u001b[0;34m]\u001b[0m\u001b[0;34m\u001b[0m\u001b[0m\n\u001b[1;32m   2015\u001b[0m \u001b[0;34m\u001b[0m\u001b[0m\n",
      "\u001b[0;31mValueError\u001b[0m: The current array is not a scalar"
     ]
    }
   ],
   "source": [
    "X.asscalar()"
   ]
  },
  {
   "cell_type": "markdown",
   "metadata": {},
   "source": [
    "#### 2.3 广播机制"
   ]
  },
  {
   "cell_type": "code",
   "execution_count": 53,
   "metadata": {},
   "outputs": [
    {
     "data": {
      "text/plain": [
       "\n",
       "[[-0.3607211   1.7467966   1.3780862 ]\n",
       " [ 2.3020267   1.5443981   0.42749572]]\n",
       "<NDArray 2x3 @gpu(0)>"
      ]
     },
     "execution_count": 53,
     "metadata": {},
     "output_type": "execute_result"
    }
   ],
   "source": [
    "X + 1"
   ]
  },
  {
   "cell_type": "code",
   "execution_count": 54,
   "metadata": {},
   "outputs": [
    {
     "data": {
      "text/plain": [
       "\n",
       "[[-2.7214422   1.4935933   0.75617236]\n",
       " [ 2.6040535   1.0887963  -1.1450086 ]]\n",
       "<NDArray 2x3 @gpu(0)>"
      ]
     },
     "execution_count": 54,
     "metadata": {},
     "output_type": "execute_result"
    }
   ],
   "source": [
    "X * 2"
   ]
  },
  {
   "cell_type": "code",
   "execution_count": 55,
   "metadata": {},
   "outputs": [],
   "source": [
    "A = nd.arange(3).reshape((3,1))"
   ]
  },
  {
   "cell_type": "code",
   "execution_count": 56,
   "metadata": {},
   "outputs": [],
   "source": [
    "B = nd.arange(3).reshape((1, 2))"
   ]
  },
  {
   "cell_type": "code",
   "execution_count": 57,
   "metadata": {},
   "outputs": [
    {
     "name": "stdout",
     "output_type": "stream",
     "text": [
      "\n",
      "[[0.]\n",
      " [1.]\n",
      " [2.]]\n",
      "<NDArray 3x1 @cpu(0)> \n",
      "[[0. 1.]]\n",
      "<NDArray 1x2 @cpu(0)>\n"
     ]
    }
   ],
   "source": [
    "print(A, B)"
   ]
  },
  {
   "cell_type": "code",
   "execution_count": 60,
   "metadata": {},
   "outputs": [
    {
     "data": {
      "text/plain": [
       "\n",
       "[[nan  0.]\n",
       " [inf  1.]\n",
       " [inf  2.]]\n",
       "<NDArray 3x2 @cpu(0)>"
      ]
     },
     "execution_count": 60,
     "metadata": {},
     "output_type": "execute_result"
    }
   ],
   "source": [
    "A / B"
   ]
  },
  {
   "cell_type": "markdown",
   "metadata": {},
   "source": [
    "#### 2.4 索引"
   ]
  },
  {
   "cell_type": "code",
   "execution_count": 61,
   "metadata": {},
   "outputs": [
    {
     "data": {
      "text/plain": [
       "\n",
       "[[-1.3607211   0.74679667  0.37808618]\n",
       " [ 1.3020267   0.5443981  -0.5725043 ]]\n",
       "<NDArray 2x3 @gpu(0)>"
      ]
     },
     "execution_count": 61,
     "metadata": {},
     "output_type": "execute_result"
    }
   ],
   "source": [
    "X"
   ]
  },
  {
   "cell_type": "code",
   "execution_count": 66,
   "metadata": {},
   "outputs": [
    {
     "data": {
      "text/plain": [
       "\n",
       "[ 0.37808618 -0.5725043 ]\n",
       "<NDArray 2 @gpu(0)>"
      ]
     },
     "execution_count": 66,
     "metadata": {},
     "output_type": "execute_result"
    }
   ],
   "source": [
    "X[0:,2]"
   ]
  },
  {
   "cell_type": "markdown",
   "metadata": {},
   "source": [
    "#### 2.5 自动求导"
   ]
  },
  {
   "cell_type": "code",
   "execution_count": 67,
   "metadata": {},
   "outputs": [],
   "source": [
    "from mxnet import autograd"
   ]
  },
  {
   "cell_type": "code",
   "execution_count": 83,
   "metadata": {},
   "outputs": [],
   "source": [
    "X = nd.arange(4).reshape((4,1))"
   ]
  },
  {
   "cell_type": "code",
   "execution_count": 84,
   "metadata": {},
   "outputs": [
    {
     "data": {
      "text/plain": [
       "\n",
       "[[0.]\n",
       " [1.]\n",
       " [2.]\n",
       " [3.]]\n",
       "<NDArray 4x1 @cpu(0)>"
      ]
     },
     "execution_count": 84,
     "metadata": {},
     "output_type": "execute_result"
    }
   ],
   "source": [
    "X"
   ]
  },
  {
   "cell_type": "code",
   "execution_count": 95,
   "metadata": {},
   "outputs": [],
   "source": [
    "# 调用attach_grad申请存储梯度需要的内存\n",
    "X.attach_grad()"
   ]
  },
  {
   "cell_type": "code",
   "execution_count": 96,
   "metadata": {},
   "outputs": [],
   "source": [
    "# 记录计算算的梯度\n",
    "with autograd.record():\n",
    "    y = 2 * nd.dot(X.T, X)"
   ]
  },
  {
   "cell_type": "code",
   "execution_count": 97,
   "metadata": {},
   "outputs": [],
   "source": [
    "y.backward()"
   ]
  },
  {
   "cell_type": "code",
   "execution_count": 100,
   "metadata": {},
   "outputs": [],
   "source": [
    "assert (X.grad - 4 * X).norm().asscalar() == 0"
   ]
  },
  {
   "cell_type": "code",
   "execution_count": 101,
   "metadata": {},
   "outputs": [
    {
     "data": {
      "text/plain": [
       "\n",
       "[[ 0.]\n",
       " [ 4.]\n",
       " [ 8.]\n",
       " [12.]]\n",
       "<NDArray 4x1 @cpu(0)>"
      ]
     },
     "execution_count": 101,
     "metadata": {},
     "output_type": "execute_result"
    }
   ],
   "source": [
    "X.grad"
   ]
  },
  {
   "cell_type": "code",
   "execution_count": 102,
   "metadata": {},
   "outputs": [
    {
     "name": "stdout",
     "output_type": "stream",
     "text": [
      "False\n"
     ]
    }
   ],
   "source": [
    "print(autograd.is_training())"
   ]
  },
  {
   "cell_type": "code",
   "execution_count": 104,
   "metadata": {},
   "outputs": [
    {
     "name": "stdout",
     "output_type": "stream",
     "text": [
      "True\n"
     ]
    }
   ],
   "source": [
    "with autograd.record():\n",
    "    print(autograd.is_training())"
   ]
  },
  {
   "cell_type": "code",
   "execution_count": 108,
   "metadata": {},
   "outputs": [
    {
     "data": {
      "text/plain": [
       "\n",
       "[3.7416573]\n",
       "<NDArray 1 @cpu(0)>"
      ]
     },
     "execution_count": 108,
     "metadata": {},
     "output_type": "execute_result"
    }
   ],
   "source": [
    "X.norm()"
   ]
  },
  {
   "cell_type": "code",
   "execution_count": null,
   "metadata": {},
   "outputs": [],
   "source": []
  }
 ],
 "metadata": {
  "kernelspec": {
   "display_name": "Python 3",
   "language": "python",
   "name": "python3"
  },
  "language_info": {
   "codemirror_mode": {
    "name": "ipython",
    "version": 3
   },
   "file_extension": ".py",
   "mimetype": "text/x-python",
   "name": "python",
   "nbconvert_exporter": "python",
   "pygments_lexer": "ipython3",
   "version": "3.6.5"
  }
 },
 "nbformat": 4,
 "nbformat_minor": 4
}
